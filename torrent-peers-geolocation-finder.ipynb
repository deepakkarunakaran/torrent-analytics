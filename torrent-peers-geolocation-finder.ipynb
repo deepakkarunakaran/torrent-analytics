{
 "cells": [
  {
   "cell_type": "markdown",
   "metadata": {},
   "source": [
    "# Torrent Peers Geolocation Finder"
   ]
  },
  {
   "cell_type": "markdown",
   "metadata": {},
   "source": [
    "## A simple python application to extract peer geolocation from distributed hash tables for bittorrent."
   ]
  },
  {
   "cell_type": "markdown",
   "metadata": {},
   "source": [
    "### Bootstrapping DHT"
   ]
  },
  {
   "cell_type": "code",
   "execution_count": null,
   "metadata": {},
   "outputs": [],
   "source": [
    "# Importing the python implementation of bittorrent distributed hash table and bootstrapping it. \n",
    "# https://buildmedia.readthedocs.org/media/pdf/btdht/dev/btdht.pdf\n",
    "\n",
    "import btdht\n",
    "import binascii\n",
    "dht = btdht.DHT()\n",
    "dht.start() "
   ]
  },
  {
   "cell_type": "markdown",
   "metadata": {},
   "source": [
    "### Extracting list of peers ip address from infohash list"
   ]
  },
  {
   "cell_type": "code",
   "execution_count": 2,
   "metadata": {},
   "outputs": [],
   "source": [
    "# Reading the infohash file. The infohash is the SHA1 Hash over the pasrt of a torrent file \n",
    "# that includes item, name, piece length, pieces, etc.\n",
    "# https://stackoverflow.com/questions/28348678/what-exactly-is-the-info-hash-in-a-torrent-file\n",
    "\n",
    "# The infohash file contains the list of infohash associated with a particular file which one wants to \n",
    "# download, say, the installation files for GIMP. The infohash for different versions of GIMP are \n",
    "# A4E5201A0D3599E22E09FBC9E02F59DCD575A2D0  \n",
    "# 70CADD7F66A414DDAEC44F5B28F4FDB0E86B87F8\n",
    "# 825000684BC3FE6F619705D99B3B2EBDB9214A28\n",
    "# BC3EDEA2EE1BB6B7806E85F5EB057BFE576C1542\n",
    "# C691C817F7310AB3E7851576814DFC167BB52740\n",
    "\n",
    "# This function takes the folder path and file name as inputs. And returns the list of infohash from the file.\n",
    "# If you take the example of Gimp, then the list five infohash shown above would be returned.\n",
    "\n",
    "\n",
    "def read_file_infohash(path, filename):\n",
    "    infohash = []\n",
    "    read_infohash = open(path+filename,\"r\")\n",
    "    for ih in read_infohash:\n",
    "         infohash.append(ih.strip())\n",
    "     \n",
    "    return  infohash"
   ]
  },
  {
   "cell_type": "code",
   "execution_count": 3,
   "metadata": {},
   "outputs": [],
   "source": [
    "# Extracting the peers from the distributed hash table for each of the hash.\n",
    "\n",
    "# This function takes the infohash list and returns the ip addresses of all the peers\n",
    "# obtained by searching the distributed hash table.\n",
    "\n",
    "import time\n",
    "def extract_peers_from_network(infohash_list):\n",
    "    peer_list = []\n",
    "    for ih in infohash_list:\n",
    "        dht.get_peers(binascii.a2b_hex(ih))         \n",
    "        time.sleep(3)   \n",
    "        dht.get_peers(binascii.a2b_hex(ih))\n",
    "         \n",
    "        temp_list = dht.get_peers(binascii.a2b_hex(ih))\n",
    "        if temp_list != None:\n",
    "            peer_list.extend(temp_list)\n",
    "            \n",
    "        return peer_list"
   ]
  },
  {
   "cell_type": "markdown",
   "metadata": {},
   "source": [
    "### Associating countries to IP"
   ]
  },
  {
   "cell_type": "code",
   "execution_count": 4,
   "metadata": {},
   "outputs": [],
   "source": [
    "# The geolite2 database which associates ip addresses to location is used \n",
    "# to obtain the list of countries.\n",
    "\n",
    "# The function takes list of peers (ip addresses) and returns a list of countries.\n",
    "\n",
    "from geolite2 import geolite2\n",
    "def findCountriesList(peers_list):\n",
    "    countries = []\n",
    "    for peer in peers_list:\n",
    "         \n",
    "        (ip,port) = peer\n",
    "        reader = geolite2.reader()\n",
    "        a=reader.get(ip)         \n",
    "         \n",
    "        if a != None:\n",
    "            try:\n",
    "                print(a['country']['names']['en'])\n",
    "                countries.append(a['country']['names']['en'])\n",
    "            except KeyError:\n",
    "                pass\n",
    "    \n",
    "    return countries"
   ]
  },
  {
   "cell_type": "markdown",
   "metadata": {},
   "source": [
    "### Associating IP with cities"
   ]
  },
  {
   "cell_type": "code",
   "execution_count": 5,
   "metadata": {},
   "outputs": [],
   "source": [
    "# The geolite2 database which associates ip addresses to location is used \n",
    "# to obtain the list of cities.\n",
    "\n",
    "# The function takes list of peers (ip addresses) and returns a list of cities.\n",
    "\n",
    "def findCitiesList(peers_list):\n",
    "    cities = []\n",
    "    for peer in peers_list:\n",
    "        (ip,port) = peer\n",
    "        reader = geolite2.reader()\n",
    "        a=reader.get(ip)         \n",
    "         \n",
    "        if a != None:\n",
    "            #print(a)\n",
    "            try:\n",
    "                print(a['city']['names']['en'])\n",
    "                cities.append(a['city']['names']['en'])\n",
    "            except KeyError:\n",
    "                pass\n",
    "    \n",
    "    return cities"
   ]
  },
  {
   "cell_type": "markdown",
   "metadata": {},
   "source": [
    "### Plotting the data - Countries vs #peers"
   ]
  },
  {
   "cell_type": "code",
   "execution_count": 15,
   "metadata": {},
   "outputs": [],
   "source": [
    "# This function plots the data mined about countries and peers.\n",
    "# Input: list of countries, name of file (e.g. GIMP) and path to save the file\n",
    "\n",
    "\n",
    "import pandas as pd\n",
    "import matplotlib.pyplot as plt\n",
    "def countries_plot(countries,filename,path):\n",
    "    l = countries\n",
    "    df = pd.DataFrame({'freq': l})\n",
    "    ax=df.groupby('freq', as_index=False).size().plot(kind='bar',figsize=(10, 5))\n",
    "    ax.xaxis.set_tick_params(labelsize = 8)\n",
    "    ax.set_xlabel('Countries')\n",
    "    ax.set_ylabel('#peers')\n",
    "    plt.title(filename)\n",
    "    plt.show()\n",
    "    plt.tight_layout()\n",
    "    plt.savefig( path + filename+ '-peers-countries.png', dpi=1000)"
   ]
  },
  {
   "cell_type": "markdown",
   "metadata": {},
   "source": [
    "### Plotting the data - Cities vs #peers"
   ]
  },
  {
   "cell_type": "code",
   "execution_count": 16,
   "metadata": {},
   "outputs": [],
   "source": [
    "# This function plots the data mined about cities and peers.\n",
    "# Input: list of cities, name of file (e.g. GIMP) and path to save the file\n",
    "\n",
    "\n",
    "import pandas as pd\n",
    "import matplotlib.pyplot as plt\n",
    "def cities_plot(cities,filename,path):\n",
    "    l = cities\n",
    "    df = pd.DataFrame({'freq': l})\n",
    "    ax=df.groupby('freq', as_index=False).size().plot(kind='bar',figsize=(14, 5))\n",
    "    ax.xaxis.set_tick_params(labelsize = 8)\n",
    "    ax.set_xlabel('Cities')\n",
    "    ax.set_ylabel('#peers)')\n",
    "    plt.title(filename)\n",
    "    plt.show()\n",
    "    plt.tight_layout()\n",
    "    plt.savefig( path + filename+ '-peers-cities.png', dpi=1000)"
   ]
  },
  {
   "cell_type": "markdown",
   "metadata": {},
   "source": [
    "# Example"
   ]
  },
  {
   "cell_type": "code",
   "execution_count": 10,
   "metadata": {},
   "outputs": [],
   "source": [
    "## This example illustrates the working for the Gimp torrent. The infohash file is gimp-infohash.txt\n",
    "## path is the path to this file. Note that the plots will be saved at the same path.\n",
    "## filename is GIMP. It is used as title for the plots.\n",
    "\n",
    "path = \"C:\\\\Users\\\\deepa\\\\Desktop\\\\Dyaus\\\\torrent-analytics\\\\example\\\\\"    \n",
    "infohash_filename = 'gimp_infohash.txt'\n",
    "filename = 'GIMP'"
   ]
  },
  {
   "cell_type": "code",
   "execution_count": 17,
   "metadata": {},
   "outputs": [
    {
     "name": "stdout",
     "output_type": "stream",
     "text": [
      "Uruguay\n",
      "South Africa\n",
      "India\n",
      "Vietnam\n",
      "United States\n",
      "Sri Lanka\n",
      "Sri Lanka\n",
      "United States\n",
      "Uruguay\n",
      "Algeria\n",
      "Brazil\n",
      "United States\n",
      "United States\n",
      "France\n",
      "Russia\n",
      "Germany\n",
      "Ukraine\n",
      "Namibia\n",
      "United States\n",
      "Montevideo\n",
      "Port Elizabeth\n",
      "Chennai\n",
      "Hanoi\n",
      "Ridgefield Park\n",
      "Colombo\n",
      "Colombo\n",
      "Narberth\n",
      "Montevideo\n",
      "Commune de Draa Ben Khedda\n",
      "Casinhas\n",
      "Little Chute\n",
      "Rowley\n",
      "Charenton-le-Pont\n",
      "Paderborn\n",
      "Kiev\n",
      "Oshakati\n",
      "Ashburn\n"
     ]
    }
   ],
   "source": [
    "infohash = read_file_infohash(path, infohash_filename)\n",
    "\n",
    "# For exhaustively extracting peers from DHT, one must call the function mutiple times.\n",
    "for i in range(0,10):\n",
    "    peers_list = extract_peers_from_network(infohash)\n",
    "\n",
    "# Generating the list of countries and cities from peers (ip addresses)   \n",
    "countries = findCountriesList(peers_list) \n",
    "cities = findCitiesList(peers_list)\n"
   ]
  },
  {
   "cell_type": "code",
   "execution_count": 18,
   "metadata": {},
   "outputs": [
    {
     "data": {
      "image/png": "[encoded data removed]",
      "text/plain": [
       "<Figure size 720x360 with 1 Axes>"
      ]
     },
     "metadata": {
      "needs_background": "light"
     },
     "output_type": "display_data"
    },
    {
     "data": {
      "image/png": "[encoded data removed]",
      "text/plain": [
       "<Figure size 1008x360 with 1 Axes>"
      ]
     },
     "metadata": {
      "needs_background": "light"
     },
     "output_type": "display_data"
    },
    {
     "data": {
      "text/plain": [
       "<Figure size 432x288 with 0 Axes>"
      ]
     },
     "metadata": {},
     "output_type": "display_data"
    }
   ],
   "source": [
    "## Generating the plots\n",
    "\n",
    "countries_plot(countries,filename,path)\n",
    "cities_plot(cities,filename,path)\n"
   ]
  }
 ],
 "metadata": {
  "kernelspec": {
   "display_name": "Python 3",
   "language": "python",
   "name": "python3"
  },
  "language_info": {
   "codemirror_mode": {
    "name": "ipython",
    "version": 3
   },
   "file_extension": ".py",
   "mimetype": "text/x-python",
   "name": "python",
   "nbconvert_exporter": "python",
   "pygments_lexer": "ipython3",
   "version": "3.7.3"
  }
 },
 "nbformat": 4,
 "nbformat_minor": 2
}
